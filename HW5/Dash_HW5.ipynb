{
 "cells": [
  {
   "cell_type": "markdown",
   "metadata": {},
   "source": [
    "# Homework 5\n",
    "## Sam Dash"
   ]
  },
  {
   "cell_type": "code",
   "execution_count": 1,
   "metadata": {},
   "outputs": [
    {
     "name": "stdout",
     "output_type": "stream",
     "text": [
      "Enter the PDB ID of the protein and the desired chain as one term: 3UTSA\n"
     ]
    }
   ],
   "source": [
    "import math\n",
    "import pandas as pd\n",
    "import numpy as np\n",
    "import urllib.request\n",
    "\n",
    "inputPDB = list(input(\"Enter the PDB ID of the protein and the desired chain as one term: \"))\n",
    "strInput = [str(i) for i in inputPDB]\n",
    "chainLetter = inputPDB[-1]\n",
    "proteinID = inputPDB[:-1]\n",
    "pdbStr = ''.join(proteinID)\n",
    "\n",
    "url = 'https://files.rcsb.org/download/' + pdbStr + '.pdb'\n",
    "pdbID = pdbStr + '.pdb'\n",
    "\n",
    "file = urllib.request.urlretrieve(url, pdbID)    #will download it to local directory\n",
    "infile = open(pdbID, 'r')  \n",
    "contents = infile.readlines()"
   ]
  },
  {
   "cell_type": "markdown",
   "metadata": {},
   "source": [
    "1. (10 pnts) Show the number of atoms in a given amino acid (by aa sequence number). "
   ]
  },
  {
   "cell_type": "code",
   "execution_count": 2,
   "metadata": {},
   "outputs": [
    {
     "name": "stdout",
     "output_type": "stream",
     "text": [
      "Enter the sequence number of an amino acid: 88\n",
      "ATOM    716  N   SER A  88      59.088  17.197  36.390  1.00 46.61           N  \n",
      "\n",
      "ATOM    717  CA  SER A  88      59.700  16.067  37.037  1.00 47.02           C  \n",
      "\n",
      "ATOM    718  C   SER A  88      59.470  14.852  36.201  1.00 45.27           C  \n",
      "\n",
      "ATOM    719  O   SER A  88      58.647  14.869  35.312  1.00 45.95           O  \n",
      "\n",
      "ATOM    720  CB  SER A  88      59.079  15.864  38.413  1.00 49.93           C  \n",
      "\n",
      "ATOM    721  OG  SER A  88      59.696  14.796  39.093  1.00 59.22           O  \n",
      "\n",
      "There are 6 atoms in this amino acid.\n"
     ]
    }
   ],
   "source": [
    "q1Input = input(\"Enter the sequence number of an amino acid: \")\n",
    "q1Len = 0\n",
    "\n",
    "for line in contents:\n",
    "    if line[:4] == 'ATOM':\n",
    "        if line[21:22] == chainLetter:\n",
    "            if (line[23:26]).replace(\" \", \"\") == q1Input:\n",
    "                print(line)\n",
    "                q1Len = q1Len + 1\n",
    "\n",
    "print(\"There are\", q1Len, \"atoms in this amino acid.\")"
   ]
  },
  {
   "cell_type": "markdown",
   "metadata": {},
   "source": [
    "2. (10 pnts) Show the number of atoms in the side chain for a given aa (aa sequence number should be\n",
    "provided)."
   ]
  },
  {
   "cell_type": "code",
   "execution_count": 3,
   "metadata": {},
   "outputs": [
    {
     "name": "stdout",
     "output_type": "stream",
     "text": [
      "Enter the sequence number of an amino acid: 64\n",
      "There are 3 side chain atoms in this amino acid.\n"
     ]
    }
   ],
   "source": [
    "q2Input = input(\"Enter the sequence number of an amino acid: \")\n",
    "\n",
    "q2Chain = 0\n",
    "\n",
    "for line in contents:\n",
    "    if line[:4] == 'ATOM':\n",
    "        if line[21:22] == chainLetter:\n",
    "            if (line[23:26]).replace(\" \", \"\") == q2Input:\n",
    "                if ((line[13:16]).replace(\" \", \"\") != 'N') & (line[13:15] != 'CA') & ((line[13:16]).replace(\" \", \"\") != 'C') & ((line[13:16]).replace(\" \", \"\") != 'O'):\n",
    "                    q2Chain = q2Chain + 1\n",
    "\n",
    "print(\"There are\", q2Chain, \"side chain atoms in this amino acid.\")"
   ]
  },
  {
   "cell_type": "markdown",
   "metadata": {},
   "source": [
    "3. (10 pnts) Show the total number of amino acids in the selected chain."
   ]
  },
  {
   "cell_type": "code",
   "execution_count": 4,
   "metadata": {},
   "outputs": [
    {
     "name": "stdout",
     "output_type": "stream",
     "text": [
      "Total number of amino acids: 276\n"
     ]
    }
   ],
   "source": [
    "q3List = []\n",
    "for line in contents:\n",
    "    if line[:4] == 'ATOM':\n",
    "        if line[21:22] == chainLetter:\n",
    "            q3List.append(line[23:26])\n",
    "            q3Set = set(q3List)\n",
    "\n",
    "q3Total = len(q3Set)\n",
    "print(\"Total number of amino acids:\",q3Total)"
   ]
  },
  {
   "cell_type": "markdown",
   "metadata": {},
   "source": [
    "4. (10 pnts) Show the number of helices and the number of sheets in the selected chain."
   ]
  },
  {
   "cell_type": "code",
   "execution_count": 5,
   "metadata": {},
   "outputs": [
    {
     "name": "stdout",
     "output_type": "stream",
     "text": [
      "There are 19 sheets in chain A\n",
      "There are 6 helices in chain A\n"
     ]
    }
   ],
   "source": [
    "sheetCount = 0\n",
    "helixCount = 0\n",
    "for line in contents:\n",
    "    if line[21:22] == chainLetter:\n",
    "        if line[:5] == 'SHEET':\n",
    "            sheetCount = sheetCount + 1\n",
    "\n",
    "for line in contents:\n",
    "    if line[19:20] == chainLetter:\n",
    "        if line[:5] == 'HELIX':\n",
    "            helixCount = helixCount + 1\n",
    "\n",
    "print(\"There are\", sheetCount,\"sheets in chain\", chainLetter)\n",
    "print(\"There are\", helixCount,\"helices in chain\", chainLetter)"
   ]
  },
  {
   "cell_type": "markdown",
   "metadata": {},
   "source": [
    "5. (10 pnts) Return the coordinates of a particular atom (The user should provide aa number and the name\n",
    "of the atom as follow: 56.CA)."
   ]
  },
  {
   "cell_type": "code",
   "execution_count": 6,
   "metadata": {
    "scrolled": true
   },
   "outputs": [
    {
     "name": "stdout",
     "output_type": "stream",
     "text": [
      "Enter the sequence number of an amino acid and the name of the atom, separated by a '.' :64.N\n",
      "Coordinates are as follows: \n",
      "X: 53.187\n",
      "Y: -0.156\n",
      "Z: 9.066\n"
     ]
    }
   ],
   "source": [
    "q5Input1 = input(\"Enter the sequence number of an amino acid and the name of the atom, separated by a '.' :\")\n",
    "\n",
    "aaInput5 = q5Input1.split('.')[0]\n",
    "atomInput5 = q5Input1.split('.')[1:]\n",
    "atomInput5 = ''.join(atomInput5)\n",
    "\n",
    "for line in contents:\n",
    "    if line[:4] == 'ATOM':\n",
    "        if line[21:22] == chainLetter:\n",
    "            if (line[23:26]).replace(\" \", \"\") == aaInput5:\n",
    "                if (line[13:15]).replace(\" \", \"\") == atomInput5:\n",
    "                    xCoord = (line[30:38]).replace(\" \", \"\")\n",
    "                    yCoord = (line[38:46]).replace(\" \", \"\")\n",
    "                    zCoord = (line[46:54]).replace(\" \", \"\")\n",
    "\n",
    "print(\"Coordinates are as follows: \")\n",
    "print(\"X:\", xCoord) \n",
    "print(\"Y:\", yCoord) \n",
    "print(\"Z:\", zCoord)"
   ]
  },
  {
   "cell_type": "markdown",
   "metadata": {},
   "source": [
    "6. (10 pnts) Show the name (3-letter code) of the amino acid at the beginning or end of a given helix by\n",
    "its number (the user should provide the input as: 2.end or 4.begin)."
   ]
  },
  {
   "cell_type": "code",
   "execution_count": 7,
   "metadata": {},
   "outputs": [
    {
     "name": "stdout",
     "output_type": "stream",
     "text": [
      "Enter the helix number, followed by end or begin: 2.end\n",
      "TYR\n"
     ]
    }
   ],
   "source": [
    "q6Input = input(\"Enter the helix number, followed by end or begin: \")\n",
    "\n",
    "helix = q6Input.split('.')[0]\n",
    "helix = int(helix)\n",
    "terminal = q6Input.split('.')[1:]\n",
    "terminal = ''.join(terminal)\n",
    "\n",
    "q6List = []\n",
    "for line in contents:\n",
    "    if line[19:20] == chainLetter:\n",
    "        if line[:5] == 'HELIX':\n",
    "            if(terminal == \"begin\"):\n",
    "                q6List.append(line[15:18])\n",
    "            elif(terminal == 'end'):\n",
    "                q6List.append(line[27:30])\n",
    "print(q6List[helix-1])"
   ]
  },
  {
   "cell_type": "markdown",
   "metadata": {},
   "source": [
    "7. (10 pnts) Find the distance between given two atoms (the user should provide aa numbers and atom\n",
    "names as follow, comma separated: 55.N, 78.CG2)."
   ]
  },
  {
   "cell_type": "code",
   "execution_count": 8,
   "metadata": {},
   "outputs": [
    {
     "name": "stdout",
     "output_type": "stream",
     "text": [
      "Enter two specific atoms separated by a comma (no space after comma): 55.N,78.C\n",
      "Coordinates for first atom:  44.335 -4.712 0.885\n",
      "Coordinates for second atom:  58.992 13.629 26.719\n",
      "Distance is:  34.90867350673755\n",
      "None\n"
     ]
    }
   ],
   "source": [
    "def distance(x1, y1, z1, x2, y2, z2):  \n",
    "       \n",
    "    dist = math.sqrt(math.pow(x2 - x1, 2) + math.pow(y2 - y1, 2) + math.pow(z2 - z1, 2)* 1.0) \n",
    "    print(\"Distance is: \", dist)\n",
    "    return\n",
    "\n",
    "q7Input = str(input(\"Enter two specific atoms separated by a comma (no space after comma): \"))\n",
    "q7List = q7Input.split (\",\")\n",
    "\n",
    "list1 = q7List[0]\n",
    "list2 = q7List[1]\n",
    "\n",
    "aa1 = list1.split('.')[0]\n",
    "atom1 = list1.split('.')[1:]\n",
    "atom1 = ''.join(atom1)\n",
    "\n",
    "aa2 = list2.split('.')[0]\n",
    "atom2 = list2.split('.')[1:]\n",
    "atom2 = ''.join(atom2)\n",
    "\n",
    "for line in contents:\n",
    "    if line[:4] == 'ATOM':\n",
    "        if line[21:22] == chainLetter:\n",
    "            if (line[23:26]).replace(\" \", \"\") == aa1:\n",
    "                if (line[13:15]).replace(\" \", \"\") == atom1:\n",
    "                    xCoord1 = (line[30:38]).replace(\" \", \"\")\n",
    "                    yCoord1 = (line[38:46]).replace(\" \", \"\")\n",
    "                    zCoord1 = (line[46:54]).replace(\" \", \"\")\n",
    "                    \n",
    "for line in contents:\n",
    "    if line[:4] == 'ATOM':\n",
    "        if line[21:22] == chainLetter:\n",
    "            if (line[23:26]).replace(\" \", \"\") == aa2:\n",
    "                if (line[13:15]).replace(\" \", \"\") == atom2:\n",
    "                    xCoord2 = (line[30:38]).replace(\" \", \"\")\n",
    "                    yCoord2 = (line[38:46]).replace(\" \", \"\")\n",
    "                    zCoord2 = (line[46:54]).replace(\" \", \"\")\n",
    "\n",
    "xCoord1 = float(xCoord1)\n",
    "yCoord1 = float(yCoord1)\n",
    "zCoord1 = float(zCoord1)\n",
    "\n",
    "xCoord2 = float(xCoord2)\n",
    "yCoord2 = float(yCoord2)\n",
    "zCoord2 = float(zCoord2)\n",
    "\n",
    "print(\"Coordinates for first atom: \", xCoord1, yCoord1, zCoord1)\n",
    "print(\"Coordinates for second atom: \", xCoord2, yCoord2, zCoord2) \n",
    "\n",
    "q7Dist = distance(xCoord1, yCoord1, zCoord1, xCoord2, yCoord2, zCoord2)\n",
    "\n",
    "print(q7Dist)"
   ]
  },
  {
   "cell_type": "markdown",
   "metadata": {},
   "source": [
    "8. (10 pnts) Calculate phi or psi for a given amino acid (the user provide the input as 45.phi or 23.psi)."
   ]
  },
  {
   "cell_type": "code",
   "execution_count": 65,
   "metadata": {
    "scrolled": true
   },
   "outputs": [
    {
     "name": "stdout",
     "output_type": "stream",
     "text": [
      "Enter the sequence number of an amino acid and the dihedral angle you wish to find: 45.phi\n",
      "Dihedral angle is: -67.65864001851573\n"
     ]
    }
   ],
   "source": [
    "RAD2DEG = 180 / np.pi\n",
    "\n",
    "def dihedral(coords1, coords2, coords3, coords4, radian=False):\n",
    "\n",
    "    a1 = coords2 - coords1\n",
    "    a2 = coords3 - coords2\n",
    "    a3 = coords4 - coords3\n",
    "\n",
    "    v1 = np.cross(a1, a2)\n",
    "    v1 = v1 / (v1 * v1).sum(-1)**0.5\n",
    "    v2 = np.cross(a2, a3)\n",
    "    v2 = v2 / (v2 * v2).sum(-1)**0.5\n",
    "    p = np.sign((v1 * a3).sum(-1))\n",
    "    radians = np.arccos((v1*v2).sum(-1) / ((v1**2).sum(-1) * (v2**2).sum(-1))**0.5)\n",
    "    if not p == 0:\n",
    "        radians = radians * p\n",
    "    if radian:\n",
    "        return radians\n",
    "    else:\n",
    "        return radians * RAD2DEG\n",
    "\n",
    "q8Input = input(\"Enter the sequence number of an amino acid and the dihedral angle you wish to find: \")\n",
    "\n",
    "aaInput = q8Input.split('.')[0]\n",
    "angleInput = q8Input.split('.')[1:]\n",
    "aaInput = int(aaInput)\n",
    "angleInput = ''.join(angleInput)\n",
    "\n",
    "aaPsi = str(aaInput+1)\n",
    "aaPhi = str(aaInput-1)\n",
    "aaSelect = str(aaInput)\n",
    "\n",
    "for line in contents:\n",
    "    if line[:4] == 'ATOM':\n",
    "        if line[21:22] == chainLetter:\n",
    "            if (line[23:26]).replace(\" \", \"\") == aaPhi:\n",
    "                if (line[13:16]).replace(\" \", \"\") == 'C':\n",
    "                    coordC1X = float((line[30:38]).replace(\" \", \"\"))\n",
    "                    coordC1Y = float((line[38:46]).replace(\" \", \"\"))\n",
    "                    coordC1Z = float((line[46:54]).replace(\" \", \"\"))\n",
    "\n",
    "for line in contents:\n",
    "    if line[:4] == 'ATOM':\n",
    "        if line[21:22] == chainLetter:\n",
    "            if (line[23:26]).replace(\" \", \"\") == aaSelect:\n",
    "                if (line[13:14]) == 'N':\n",
    "                    coordN1X = float((line[30:38]).replace(\" \", \"\"))\n",
    "                    coordN1Y = float((line[38:46]).replace(\" \", \"\"))\n",
    "                    coordN1Z = float((line[46:54]).replace(\" \", \"\"))\n",
    "                \n",
    "for line in contents:\n",
    "    if line[:4] == 'ATOM':\n",
    "        if line[21:22] == chainLetter:\n",
    "            if (line[23:26]).replace(\" \", \"\") == aaSelect:                \n",
    "                if (line[13:15]) == 'CA':\n",
    "                    coordCAX = float((line[30:38]).replace(\" \", \"\"))\n",
    "                    coordCAY = float((line[38:46]).replace(\" \", \"\"))\n",
    "                    coordCAZ = float((line[46:54]).replace(\" \", \"\"))\n",
    "                \n",
    "for line in contents:\n",
    "    if line[:4] == 'ATOM':\n",
    "        if line[21:22] == chainLetter:\n",
    "            if (line[23:26]).replace(\" \", \"\") == aaSelect:                \n",
    "                if (line[13:15]).replace(\" \", \"\") == 'C':\n",
    "                    coordC2X = float((line[30:38]).replace(\" \", \"\"))\n",
    "                    coordC2Y = float((line[38:46]).replace(\" \", \"\"))\n",
    "                    coordC2Z = float((line[46:54]).replace(\" \", \"\"))\n",
    "                    \n",
    "for line in contents:\n",
    "    if line[:4] == 'ATOM':\n",
    "        if line[21:22] == chainLetter:\n",
    "            if (line[23:26]).replace(\" \", \"\") == aaPsi:                \n",
    "                if (line[13:15]).replace(\" \", \"\") == 'N':\n",
    "                    coordN2X = float((line[30:38]).replace(\" \", \"\"))\n",
    "                    coordN2Y = float((line[38:46]).replace(\" \", \"\"))\n",
    "                    coordN2Z = float((line[46:54]).replace(\" \", \"\"))\n",
    "\n",
    "coordC1 = np.array([coordC1X, coordC1Y, coordC1Z])\n",
    "coordN1 = np.array([coordN1X, coordN1Y, coordN1Z])\n",
    "coordCA = np.array([coordCAX, coordCAY, coordCAZ])\n",
    "coordC2 = np.array([coordC2X, coordC2Y, coordC2Z])\n",
    "coordN2 = np.array([coordN2X, coordN2Y, coordN2Z])\n",
    "                    \n",
    "if(angleInput == 'phi'):\n",
    "    angle = dihedral(coordC1, coordN1, coordCA, coordC2)\n",
    "    print(\"Dihedral angle is:\", angle)\n",
    "elif(angleInput == 'psi'):\n",
    "    angle = dihedral(coordN1, coordCA, coordC2, coordN2)\n",
    "    print(\"Dihedral angle is:\", angle)"
   ]
  },
  {
   "cell_type": "markdown",
   "metadata": {},
   "source": [
    "9. Find the angle for the backbone atoms (N-Ca-C) of a given amino acid (the sequence number of the aa\n",
    "will be provided)."
   ]
  },
  {
   "cell_type": "code",
   "execution_count": 59,
   "metadata": {},
   "outputs": [
    {
     "name": "stdout",
     "output_type": "stream",
     "text": [
      "Enter the sequence number of an amino acid: 124\n",
      "107.13943094044086\n"
     ]
    }
   ],
   "source": [
    "q9Input = input(\"Enter the sequence number of an amino acid: \")\n",
    "\n",
    "for line in contents:\n",
    "    if line[:4] == 'ATOM':\n",
    "        if line[21:22] == chainLetter:\n",
    "            if (line[23:26]).replace(\" \", \"\") == q9Input:\n",
    "                if (line[13:15]).replace(\" \", \"\") == 'N':\n",
    "                    coordNX = float((line[30:38]).replace(\" \", \"\"))\n",
    "                    coordNY = float((line[38:46]).replace(\" \", \"\"))\n",
    "                    coordNZ = float((line[46:54]).replace(\" \", \"\"))\n",
    "                \n",
    "for line in contents:\n",
    "    if line[:4] == 'ATOM':\n",
    "        if line[21:22] == chainLetter:\n",
    "            if (line[23:26]).replace(\" \", \"\") == q9Input:                \n",
    "                if (line[13:15]) == 'CA':\n",
    "                    coordCAX = float((line[30:38]).replace(\" \", \"\"))\n",
    "                    coordCAY = float((line[38:46]).replace(\" \", \"\"))\n",
    "                    coordCAZ = float((line[46:54]).replace(\" \", \"\"))\n",
    "                \n",
    "for line in contents:\n",
    "    if line[:4] == 'ATOM':\n",
    "        if line[21:22] == chainLetter:\n",
    "            if (line[23:26]).replace(\" \", \"\") == q9Input:                \n",
    "                if (line[13:15]).replace(\" \", \"\") == 'C':\n",
    "                    coordCX = float((line[30:38]).replace(\" \", \"\"))\n",
    "                    coordCY = float((line[38:46]).replace(\" \", \"\"))\n",
    "                    coordCZ = float((line[46:54]).replace(\" \", \"\"))\n",
    "\n",
    "N = np.array([coordNX, coordNY, coordNZ])\n",
    "CA = np.array([coordCAX, coordCAY,coordCAZ])\n",
    "C = np.array([coordCX, coordCY,coordCZ])\n",
    "\n",
    "CAN = N - CA\n",
    "CAC = C - CA\n",
    "\n",
    "cosAngle = np.dot(CAN, CAC) / (np.linalg.norm(CAN) * np.linalg.norm(CAC))\n",
    "q9Angle = np.arccos(cosAngle)\n",
    "\n",
    "print(np.degrees(q9Angle))"
   ]
  },
  {
   "cell_type": "markdown",
   "metadata": {},
   "source": [
    "10. Given a sequence number, determine whether if it is in a side chain (on helix or sheet) or not."
   ]
  },
  {
   "cell_type": "code",
   "execution_count": 49,
   "metadata": {},
   "outputs": [
    {
     "name": "stdout",
     "output_type": "stream",
     "text": [
      "Enter the sequence number of an amino acid: 141\n",
      "[46, 31, 21, 3, 94, 109, 121, 133, 186, 198, 241, 228, 186, 198, 241, 234, 214, 257, 270]\n",
      "[47, 37, 28, 12, 103, 118, 126, 135, 194, 208, 250, 230, 194, 208, 250, 235, 219, 262, 272]\n",
      "[49, 56, 137, 151, 162, 175]\n",
      "[54, 85, 150, 162, 175, 180]\n",
      "The sequence is on a helix.\n"
     ]
    }
   ],
   "source": [
    "q10Input = input(\"Enter the sequence number of an amino acid: \")\n",
    "aaInput10 = int(q10Input)\n",
    "\n",
    "q10SheetLowerList = []\n",
    "q10SheetUpperList = []\n",
    "q10HelixLowerList = []\n",
    "q10HelixUpperList = []\n",
    "\n",
    "for line in contents:\n",
    "    if (line[:5] == 'SHEET'):\n",
    "        if line[21:22] == chainLetter:\n",
    "            q10SheetLowerList.append(int(line[23:26].replace(\" \", \"\")))\n",
    "            q10SheetUpperList.append(int(line[34:37].replace(\" \", \"\")))\n",
    "            \n",
    "for line in contents:\n",
    "    if (line[:5] == 'HELIX'):\n",
    "        if line[19:20] == chainLetter:\n",
    "            q10HelixLowerList.append(int(line[22:25].replace(\" \", \"\")))\n",
    "            q10HelixUpperList.append(int(line[34:37].replace(\" \", \"\")))\n",
    "print(q10SheetLowerList)\n",
    "print(q10SheetUpperList)\n",
    "print(q10HelixLowerList)\n",
    "print(q10HelixUpperList)\n",
    "\n",
    "for i in range(len(q10SheetLowerList) - 1):\n",
    "    if (q10SheetLowerList[i] <= aaInput10) & (q10SheetUpperList[i] >= aaInput10):\n",
    "        print(\"The sequence is on a sheet.\")\n",
    "        \n",
    "for j in range(len(q10HelixLowerList) - 1):\n",
    "    if (q10HelixLowerList[j] <= aaInput10) & (q10HelixUpperList[j] >= aaInput10):\n",
    "        print(\"The sequence is on a helix.\")"
   ]
  }
 ],
 "metadata": {
  "kernelspec": {
   "display_name": "Python 3",
   "language": "python",
   "name": "python3"
  },
  "language_info": {
   "codemirror_mode": {
    "name": "ipython",
    "version": 3
   },
   "file_extension": ".py",
   "mimetype": "text/x-python",
   "name": "python",
   "nbconvert_exporter": "python",
   "pygments_lexer": "ipython3",
   "version": "3.7.1"
  }
 },
 "nbformat": 4,
 "nbformat_minor": 2
}
