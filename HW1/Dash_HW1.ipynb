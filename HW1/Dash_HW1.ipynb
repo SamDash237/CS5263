{
 "cells": [
  {
   "cell_type": "markdown",
   "metadata": {},
   "source": [
    "# Homework 1\n",
    "\n",
    "## Sam Dash"
   ]
  },
  {
   "cell_type": "code",
   "execution_count": 1,
   "metadata": {},
   "outputs": [],
   "source": [
    "import math"
   ]
  },
  {
   "cell_type": "raw",
   "metadata": {},
   "source": [
    "Q1 – 15 points) The average person blinks once every four seconds (or 15 times per minute). You are to\n",
    "write a Python code that is given the blinking frequency for a person and then calculates the number of\n",
    "times that person would blink in a day. There should be two inputs to your code, the number of blinks\n",
    "observed and the time period during which those observations were made. For example, you might\n",
    "observe a person for 30 seconds and count 8 blinks during that period. The code should then extrapolate\n",
    "the blink rate over a full 24 hour period. For example,\n",
    "\n",
    " Enter the number of blinks observed: 8\n",
    " Enter the duration of the observation (in seconds): 30\n",
    " \n",
    " That extrapolates to 23040 blinks in a day.\n",
    " \n",
    "Note that the number of blinks should be rounded to the nearest integer. There should also be a blank\n",
    "line between the input prompts and the output message."
   ]
  },
  {
   "cell_type": "code",
   "execution_count": 2,
   "metadata": {},
   "outputs": [
    {
     "name": "stdout",
     "output_type": "stream",
     "text": [
      "Enter the number of blinks observed: 8\n",
      "Enter the duration of the observation (in seconds): 30\n",
      "\n",
      "That extrapolates to 23040 blinks in a day.\n"
     ]
    }
   ],
   "source": [
    "inputQ1Blink = int(input(\"Enter the number of blinks observed: \"))\n",
    "inputQ1Duration = int(input(\"Enter the duration of the observation (in seconds): \"))\n",
    "\n",
    "DAY_IN_SECONDS = 86400\n",
    "\n",
    "observationPeriod = DAY_IN_SECONDS/inputQ1Duration\n",
    "\n",
    "extrapolationBlink = round(inputQ1Blink * observationPeriod)\n",
    "\n",
    "print(\"\")\n",
    "print(\"That extrapolates to\",extrapolationBlink,\"blinks in a day.\")"
   ]
  },
  {
   "cell_type": "raw",
   "metadata": {},
   "source": [
    "Q2 – 15 points) First-time home owners are often shocked to find out how much a mortgage really costs.\n",
    "You are to write a module that calculates the monthly mortgage payment for a given mortgage, and also\n",
    "the total amount paid over the term of that mortgage.\n",
    "The formula for calculating the monthly mortgage payment is:\n",
    "monthly payment = (𝑙𝑜𝑎𝑛∗𝑟𝑎𝑡𝑒∗ ((1+𝑟𝑎𝑡𝑒)^𝑚𝑜𝑛𝑡ℎ𝑠))/(((1+𝑟𝑎𝑡𝑒)^𝑚𝑜𝑛𝑡ℎ𝑠)−1)\n",
    "where loan is the loan amount, months is the loan term (in months), and rate is the monthly interest\n",
    "rate (i.e., the yearly rate divided by 12).\n",
    "Your code should prompt the user for the loan amount, the loan term (in years), and the yearly interest\n",
    "rate. It should calculate and display the monthly payment and the total amount that will be paid over\n",
    "the term of the loan. For example,\n",
    " Enter the loan amount (in dollars): 200000\n",
    " Enter the loan term (in years): 30\n",
    " Enter the yearly interest rate (as a percentage): 4.5\n",
    " Your monthly payment will be $1013.37\n",
    " \n",
    " After 30 years, your payments will total $364813.2\n",
    " \n",
    "The monthly payment should be rounded to the nearest penny. This can be accomplished by providing\n",
    "the round function with a second input, specifying the maximum number of digits. For example,\n",
    "round(1.2364, 2) evaluates to 1.24. There should be no spaces between a dollar sign and the associated\n",
    "amount, but there should be a blank line between the input prompts and the output message."
   ]
  },
  {
   "cell_type": "code",
   "execution_count": 3,
   "metadata": {},
   "outputs": [
    {
     "name": "stdout",
     "output_type": "stream",
     "text": [
      "Enter the loan amount (in dollars): 200000\n",
      "Enter the loan term (in years):30\n",
      "Enter the yearly interest rate (as a percentage):4.5\n",
      "\n",
      "Your monthly payment will be $1013.37\n",
      "After 30.0 years, your payments will total $364813.2\n"
     ]
    }
   ],
   "source": [
    "loan = float(input(\"Enter the loan amount (in dollars): \"))\n",
    "inputQ2Term = float(input(\"Enter the loan term (in years):\"))\n",
    "inputQ2Rate = float(input(\"Enter the yearly interest rate (as a percentage):\"))\n",
    "\n",
    "months = inputQ2Term*12\n",
    "rate = (inputQ2Rate/100)/12\n",
    "exp = (1+rate)**months\n",
    "\n",
    "monthlyPayment = (loan*rate*exp)/(exp - 1)\n",
    "roundedPayment = round(monthlyPayment,2)\n",
    "totalPayment = roundedPayment * months\n",
    "\n",
    "print(\"\")\n",
    "print(\"Your monthly payment will be ${}\".format(roundedPayment))\n",
    "print(\"After\",inputQ2Term, \"years, your payments will total ${}\".format(totalPayment))"
   ]
  },
  {
   "cell_type": "raw",
   "metadata": {},
   "source": [
    "Q3 - 20 points) Write a Python Program that accepts a DNA sequence from a text file 'dna.txt' and counts\n",
    "the frequency of each of the nucleotide acids A, C, G, T. Assume the 'dna.txt' is in the same directory\n",
    "where your program is"
   ]
  },
  {
   "cell_type": "code",
   "execution_count": 4,
   "metadata": {},
   "outputs": [
    {
     "name": "stdout",
     "output_type": "stream",
     "text": [
      "A: 2\n",
      "C: 6\n",
      "T: 4\n",
      "G: 2\n"
     ]
    }
   ],
   "source": [
    "inputQ3 = open('dna.txt', \"r+\")\n",
    "q3Dict = {}\n",
    "for i in inputQ3.read():\n",
    "    q3Dict[i] = q3Dict.get(i,0) + 1\n",
    "for key,value in q3Dict.items():\n",
    "    print(\"{}: {}\".format(key,value))"
   ]
  },
  {
   "cell_type": "raw",
   "metadata": {},
   "source": [
    "Q4 – 25 points) Hamming distance between two strings of equal length is the number of positions at\n",
    "which the corresponding symbols are different. In other words, it measures the minimum number of\n",
    "substitutions required to change one string into the other, or the minimum number of errors that could\n",
    "have transformed one string into the other. For example, hamming distance between \"car\" and \"fat\" is 2.\n",
    "Write a Python program that accepts a DNA sequence from a text file 'dna.txt' and a given pattern P and\n",
    "a hamming distance value. The program finds how many times the pattern P occurs in the DNA within the\n",
    "given hamming distance. For example: if dna.txt is 'ACCACTGTCTCTGC' and the pattern P is 'ACT' and the\n",
    "given hamming distance is 1, the output of your program should be 3."
   ]
  },
  {
   "cell_type": "code",
   "execution_count": 5,
   "metadata": {},
   "outputs": [
    {
     "name": "stdout",
     "output_type": "stream",
     "text": [
      "Enter the pattern: ACT\n",
      "Enter the Hamming distance: 1\n",
      "\n",
      "The pattern occurs 3 times.\n"
     ]
    }
   ],
   "source": [
    "def hamDist(str1, str2):\n",
    "    #return Hamming distance\n",
    "    assert len(str1) == len(str2)\n",
    "    return sum(char1 != char2 for char1, char2 in zip(str1, str2))\n",
    "\n",
    "inputQ4 = open('dna.txt', \"r+\")\n",
    "Q4String = str(inputQ4.read())\n",
    "inputQ4.close();\n",
    "x = 0\n",
    "Q4Pattern = input(\"Enter the pattern: \")\n",
    "Q4Distance = int(input(\"Enter the Hamming distance: \"))\n",
    "if(inputQ4 == None):\n",
    "    print(\"File not found\")\n",
    "for i in range(0, len(Q4String) - len(Q4Pattern)):\n",
    "    if hamDist(Q4String[i:i+3], Q4Pattern)== Q4Distance:\n",
    "        x = x+1\n",
    "\n",
    "print(\"\")\n",
    "print(\"The pattern occurs\",x, \"times.\")"
   ]
  },
  {
   "cell_type": "raw",
   "metadata": {},
   "source": [
    "Q5 – 25 points) Edit distance is a way of quantifying how dissimilar two strings (e.g., words) are to one\n",
    "another by counting the number of operations required to transform one string into the other. Three\n",
    "operations are defined: insertion (kmal -> kamal), deletion (kamal -> amal), and substitution (kamal ->\n",
    "jamal). Write a Python program that accepts two DNA sequences. The program finds the edit distance\n",
    "between the two strings. For example: if str1 = 'ACCACTGTC' and str2 = 'ACGTCAG', then your program\n",
    "prints 5."
   ]
  },
  {
   "cell_type": "code",
   "execution_count": 6,
   "metadata": {},
   "outputs": [
    {
     "name": "stdout",
     "output_type": "stream",
     "text": [
      "Enter string 1: ACCACTGTC\n",
      "Enter string 2: ACGTCAG\n",
      "\n",
      "The edit distance is 5\n"
     ]
    }
   ],
   "source": [
    "q5Input1 = str(input(\"Enter string 1: \"))\n",
    "q5Input2 = str(input(\"Enter string 2: \"))\n",
    "\n",
    "def editDist(x, y, lenX, lenY):\n",
    "    \n",
    "    if(lenX==0):\n",
    "        return lenY\n",
    "    \n",
    "    if(lenY==0):\n",
    "        return lenX\n",
    "    \n",
    "    if(x[lenX-1]==y[lenY-1]):\n",
    "        return editDist(x,y,lenX-1, lenY-1)\n",
    "\n",
    "    return 1 + min(editDist(x,y,lenX, lenY-1),   #insertion\n",
    "                   editDist(x,y,lenX-1, lenY),   #deletion\n",
    "                   editDist(x,y,lenX-1, lenY-1)) #substitution\n",
    "print(\"\")\n",
    "print(\"The edit distance is\", editDist(q5Input1, q5Input2, len(q5Input1), len(q5Input2)))"
   ]
  }
 ],
 "metadata": {
  "kernelspec": {
   "display_name": "Python 3",
   "language": "python",
   "name": "python3"
  },
  "language_info": {
   "codemirror_mode": {
    "name": "ipython",
    "version": 3
   },
   "file_extension": ".py",
   "mimetype": "text/x-python",
   "name": "python",
   "nbconvert_exporter": "python",
   "pygments_lexer": "ipython3",
   "version": "3.7.1"
  }
 },
 "nbformat": 4,
 "nbformat_minor": 2
}
